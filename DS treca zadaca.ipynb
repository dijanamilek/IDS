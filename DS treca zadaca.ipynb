{
 "cells": [
  {
   "cell_type": "code",
   "execution_count": 3,
   "id": "f7ff933a",
   "metadata": {},
   "outputs": [],
   "source": [
    "import numpy as np \n",
    "import pandas as pd\n",
    "import matplotlib.pyplot as plt\n",
    "import seaborn as sns\n"
   ]
  },
  {
   "cell_type": "markdown",
   "id": "565d8231",
   "metadata": {},
   "source": [
    "1. Load the cleaned dataset from the last exercise. If you haven't saved the dataset, rerun the exercise and save the final dataset."
   ]
  },
  {
   "cell_type": "code",
   "execution_count": 4,
   "id": "ed36fe06",
   "metadata": {},
   "outputs": [
    {
     "data": {
      "text/html": [
       "<div>\n",
       "<style scoped>\n",
       "    .dataframe tbody tr th:only-of-type {\n",
       "        vertical-align: middle;\n",
       "    }\n",
       "\n",
       "    .dataframe tbody tr th {\n",
       "        vertical-align: top;\n",
       "    }\n",
       "\n",
       "    .dataframe thead th {\n",
       "        text-align: right;\n",
       "    }\n",
       "</style>\n",
       "<table border=\"1\" class=\"dataframe\">\n",
       "  <thead>\n",
       "    <tr style=\"text-align: right;\">\n",
       "      <th></th>\n",
       "      <th>EthnicGroup</th>\n",
       "      <th>ParentEduc</th>\n",
       "      <th>LunchType</th>\n",
       "      <th>TestPrep</th>\n",
       "      <th>ParentMaritalStatus</th>\n",
       "      <th>PracticeSport</th>\n",
       "      <th>IsFirstChild</th>\n",
       "      <th>NrSiblings</th>\n",
       "      <th>TransportMeans</th>\n",
       "      <th>WklyStudyHours</th>\n",
       "      <th>MathScore</th>\n",
       "      <th>ReadingScore</th>\n",
       "      <th>WritingScore</th>\n",
       "      <th>Gender_female</th>\n",
       "      <th>Gender_male</th>\n",
       "      <th>LunchType_free/reduced</th>\n",
       "      <th>LunchType_standard</th>\n",
       "    </tr>\n",
       "    <tr>\n",
       "      <th>Gender</th>\n",
       "      <th></th>\n",
       "      <th></th>\n",
       "      <th></th>\n",
       "      <th></th>\n",
       "      <th></th>\n",
       "      <th></th>\n",
       "      <th></th>\n",
       "      <th></th>\n",
       "      <th></th>\n",
       "      <th></th>\n",
       "      <th></th>\n",
       "      <th></th>\n",
       "      <th></th>\n",
       "      <th></th>\n",
       "      <th></th>\n",
       "      <th></th>\n",
       "      <th></th>\n",
       "    </tr>\n",
       "  </thead>\n",
       "  <tbody>\n",
       "    <tr>\n",
       "      <th>female</th>\n",
       "      <td>2</td>\n",
       "      <td>1</td>\n",
       "      <td>standard</td>\n",
       "      <td>1</td>\n",
       "      <td>1</td>\n",
       "      <td>1</td>\n",
       "      <td>1</td>\n",
       "      <td>3.0</td>\n",
       "      <td>1</td>\n",
       "      <td>1</td>\n",
       "      <td>71</td>\n",
       "      <td>71</td>\n",
       "      <td>74</td>\n",
       "      <td>1.0</td>\n",
       "      <td>0.0</td>\n",
       "      <td>0.0</td>\n",
       "      <td>1.0</td>\n",
       "    </tr>\n",
       "    <tr>\n",
       "      <th>female</th>\n",
       "      <td>2</td>\n",
       "      <td>5</td>\n",
       "      <td>standard</td>\n",
       "      <td>1</td>\n",
       "      <td>1</td>\n",
       "      <td>2</td>\n",
       "      <td>1</td>\n",
       "      <td>0.0</td>\n",
       "      <td>2</td>\n",
       "      <td>0</td>\n",
       "      <td>69</td>\n",
       "      <td>90</td>\n",
       "      <td>88</td>\n",
       "      <td>1.0</td>\n",
       "      <td>0.0</td>\n",
       "      <td>0.0</td>\n",
       "      <td>1.0</td>\n",
       "    </tr>\n",
       "    <tr>\n",
       "      <th>female</th>\n",
       "      <td>1</td>\n",
       "      <td>3</td>\n",
       "      <td>standard</td>\n",
       "      <td>1</td>\n",
       "      <td>2</td>\n",
       "      <td>2</td>\n",
       "      <td>1</td>\n",
       "      <td>4.0</td>\n",
       "      <td>1</td>\n",
       "      <td>1</td>\n",
       "      <td>87</td>\n",
       "      <td>93</td>\n",
       "      <td>91</td>\n",
       "      <td>1.0</td>\n",
       "      <td>0.0</td>\n",
       "      <td>0.0</td>\n",
       "      <td>1.0</td>\n",
       "    </tr>\n",
       "    <tr>\n",
       "      <th>male</th>\n",
       "      <td>0</td>\n",
       "      <td>0</td>\n",
       "      <td>free/reduced</td>\n",
       "      <td>1</td>\n",
       "      <td>1</td>\n",
       "      <td>0</td>\n",
       "      <td>0</td>\n",
       "      <td>1.0</td>\n",
       "      <td>2</td>\n",
       "      <td>0</td>\n",
       "      <td>45</td>\n",
       "      <td>56</td>\n",
       "      <td>42</td>\n",
       "      <td>0.0</td>\n",
       "      <td>1.0</td>\n",
       "      <td>1.0</td>\n",
       "      <td>0.0</td>\n",
       "    </tr>\n",
       "    <tr>\n",
       "      <th>male</th>\n",
       "      <td>2</td>\n",
       "      <td>5</td>\n",
       "      <td>standard</td>\n",
       "      <td>1</td>\n",
       "      <td>1</td>\n",
       "      <td>2</td>\n",
       "      <td>1</td>\n",
       "      <td>0.0</td>\n",
       "      <td>1</td>\n",
       "      <td>0</td>\n",
       "      <td>76</td>\n",
       "      <td>78</td>\n",
       "      <td>75</td>\n",
       "      <td>0.0</td>\n",
       "      <td>1.0</td>\n",
       "      <td>0.0</td>\n",
       "      <td>1.0</td>\n",
       "    </tr>\n",
       "    <tr>\n",
       "      <th>...</th>\n",
       "      <td>...</td>\n",
       "      <td>...</td>\n",
       "      <td>...</td>\n",
       "      <td>...</td>\n",
       "      <td>...</td>\n",
       "      <td>...</td>\n",
       "      <td>...</td>\n",
       "      <td>...</td>\n",
       "      <td>...</td>\n",
       "      <td>...</td>\n",
       "      <td>...</td>\n",
       "      <td>...</td>\n",
       "      <td>...</td>\n",
       "      <td>...</td>\n",
       "      <td>...</td>\n",
       "      <td>...</td>\n",
       "      <td>...</td>\n",
       "    </tr>\n",
       "    <tr>\n",
       "      <th>female</th>\n",
       "      <td>3</td>\n",
       "      <td>2</td>\n",
       "      <td>standard</td>\n",
       "      <td>1</td>\n",
       "      <td>2</td>\n",
       "      <td>2</td>\n",
       "      <td>0</td>\n",
       "      <td>2.0</td>\n",
       "      <td>1</td>\n",
       "      <td>0</td>\n",
       "      <td>59</td>\n",
       "      <td>61</td>\n",
       "      <td>65</td>\n",
       "      <td>1.0</td>\n",
       "      <td>0.0</td>\n",
       "      <td>0.0</td>\n",
       "      <td>1.0</td>\n",
       "    </tr>\n",
       "    <tr>\n",
       "      <th>male</th>\n",
       "      <td>4</td>\n",
       "      <td>2</td>\n",
       "      <td>standard</td>\n",
       "      <td>1</td>\n",
       "      <td>2</td>\n",
       "      <td>1</td>\n",
       "      <td>0</td>\n",
       "      <td>1.0</td>\n",
       "      <td>0</td>\n",
       "      <td>0</td>\n",
       "      <td>58</td>\n",
       "      <td>53</td>\n",
       "      <td>51</td>\n",
       "      <td>0.0</td>\n",
       "      <td>1.0</td>\n",
       "      <td>0.0</td>\n",
       "      <td>1.0</td>\n",
       "    </tr>\n",
       "    <tr>\n",
       "      <th>female</th>\n",
       "      <td>2</td>\n",
       "      <td>2</td>\n",
       "      <td>free/reduced</td>\n",
       "      <td>0</td>\n",
       "      <td>1</td>\n",
       "      <td>2</td>\n",
       "      <td>0</td>\n",
       "      <td>1.0</td>\n",
       "      <td>0</td>\n",
       "      <td>0</td>\n",
       "      <td>61</td>\n",
       "      <td>70</td>\n",
       "      <td>67</td>\n",
       "      <td>1.0</td>\n",
       "      <td>0.0</td>\n",
       "      <td>1.0</td>\n",
       "      <td>0.0</td>\n",
       "    </tr>\n",
       "    <tr>\n",
       "      <th>female</th>\n",
       "      <td>3</td>\n",
       "      <td>0</td>\n",
       "      <td>standard</td>\n",
       "      <td>0</td>\n",
       "      <td>1</td>\n",
       "      <td>1</td>\n",
       "      <td>0</td>\n",
       "      <td>3.0</td>\n",
       "      <td>1</td>\n",
       "      <td>0</td>\n",
       "      <td>82</td>\n",
       "      <td>90</td>\n",
       "      <td>93</td>\n",
       "      <td>1.0</td>\n",
       "      <td>0.0</td>\n",
       "      <td>0.0</td>\n",
       "      <td>1.0</td>\n",
       "    </tr>\n",
       "    <tr>\n",
       "      <th>male</th>\n",
       "      <td>1</td>\n",
       "      <td>5</td>\n",
       "      <td>standard</td>\n",
       "      <td>1</td>\n",
       "      <td>1</td>\n",
       "      <td>0</td>\n",
       "      <td>0</td>\n",
       "      <td>1.0</td>\n",
       "      <td>1</td>\n",
       "      <td>0</td>\n",
       "      <td>64</td>\n",
       "      <td>60</td>\n",
       "      <td>58</td>\n",
       "      <td>0.0</td>\n",
       "      <td>1.0</td>\n",
       "      <td>0.0</td>\n",
       "      <td>1.0</td>\n",
       "    </tr>\n",
       "  </tbody>\n",
       "</table>\n",
       "<p>29117 rows × 17 columns</p>\n",
       "</div>"
      ],
      "text/plain": [
       "        EthnicGroup  ParentEduc     LunchType  TestPrep  ParentMaritalStatus  \\\n",
       "Gender                                                                         \n",
       "female            2           1      standard         1                    1   \n",
       "female            2           5      standard         1                    1   \n",
       "female            1           3      standard         1                    2   \n",
       "male              0           0  free/reduced         1                    1   \n",
       "male              2           5      standard         1                    1   \n",
       "...             ...         ...           ...       ...                  ...   \n",
       "female            3           2      standard         1                    2   \n",
       "male              4           2      standard         1                    2   \n",
       "female            2           2  free/reduced         0                    1   \n",
       "female            3           0      standard         0                    1   \n",
       "male              1           5      standard         1                    1   \n",
       "\n",
       "        PracticeSport  IsFirstChild  NrSiblings  TransportMeans  \\\n",
       "Gender                                                            \n",
       "female              1             1         3.0               1   \n",
       "female              2             1         0.0               2   \n",
       "female              2             1         4.0               1   \n",
       "male                0             0         1.0               2   \n",
       "male                2             1         0.0               1   \n",
       "...               ...           ...         ...             ...   \n",
       "female              2             0         2.0               1   \n",
       "male                1             0         1.0               0   \n",
       "female              2             0         1.0               0   \n",
       "female              1             0         3.0               1   \n",
       "male                0             0         1.0               1   \n",
       "\n",
       "        WklyStudyHours  MathScore  ReadingScore  WritingScore  Gender_female  \\\n",
       "Gender                                                                         \n",
       "female               1         71            71            74            1.0   \n",
       "female               0         69            90            88            1.0   \n",
       "female               1         87            93            91            1.0   \n",
       "male                 0         45            56            42            0.0   \n",
       "male                 0         76            78            75            0.0   \n",
       "...                ...        ...           ...           ...            ...   \n",
       "female               0         59            61            65            1.0   \n",
       "male                 0         58            53            51            0.0   \n",
       "female               0         61            70            67            1.0   \n",
       "female               0         82            90            93            1.0   \n",
       "male                 0         64            60            58            0.0   \n",
       "\n",
       "        Gender_male  LunchType_free/reduced  LunchType_standard  \n",
       "Gender                                                           \n",
       "female          0.0                     0.0                 1.0  \n",
       "female          0.0                     0.0                 1.0  \n",
       "female          0.0                     0.0                 1.0  \n",
       "male            1.0                     1.0                 0.0  \n",
       "male            1.0                     0.0                 1.0  \n",
       "...             ...                     ...                 ...  \n",
       "female          0.0                     0.0                 1.0  \n",
       "male            1.0                     0.0                 1.0  \n",
       "female          0.0                     1.0                 0.0  \n",
       "female          0.0                     0.0                 1.0  \n",
       "male            1.0                     0.0                 1.0  \n",
       "\n",
       "[29117 rows x 17 columns]"
      ]
     },
     "execution_count": 4,
     "metadata": {},
     "output_type": "execute_result"
    }
   ],
   "source": [
    "df = pd.read_csv('students_score_rijeseno.csv', index_col = 0)\n",
    "df\n",
    "#load the data set, with the first column as column names"
   ]
  },
  {
   "cell_type": "markdown",
   "id": "5bd8059f",
   "metadata": {},
   "source": [
    "2. a) Find the mean, median and average scores in mathematics, reading and writing. <br>\n",
    "   b) Find the mean, median and average scores for males and females.<br>\n",
    "   c) What is the coefficient of variation of the scores? <br>"
   ]
  },
  {
   "cell_type": "code",
   "execution_count": 5,
   "id": "50b4b85d",
   "metadata": {},
   "outputs": [
    {
     "name": "stdout",
     "output_type": "stream",
     "text": [
      "The mean score in reading is 69.39008139574818\n",
      "The mean score in writing is 68.42933681354535\n",
      "The mean score in mathematics is 66.55994779681973\n",
      "The median score in reading is 70.0\n",
      "The median score in writing is 69.0\n",
      "The median score in mathematics is 67.0\n",
      "The average score in reading is 0    65\n",
      "Name: ReadingScore, dtype: int64\n",
      "The average score in writing is 0    67\n",
      "Name: WritingScore, dtype: int64\n",
      "The average score in mathematics is 0    64\n",
      "Name: MathScore, dtype: int64\n",
      "The mean score in reading in relation to: Gender\n",
      "female    72.900825\n",
      "male      65.824657\n",
      "Name: ReadingScore, dtype: float64\n",
      "The median score in reading in relation to: Gender\n",
      "female    73.0\n",
      "male      66.0\n",
      "Name: ReadingScore, dtype: float64\n",
      "The average score in reading in relation to: Gender\n",
      "female    65\n",
      "male      65\n",
      "Name: ReadingScore, dtype: int64\n",
      "The mean score in writing in relation to: Gender\n",
      "female    72.899189\n",
      "male      63.889866\n",
      "Name: WritingScore, dtype: float64\n",
      "The median score in writing in relation to: Gender\n",
      "female    73.0\n",
      "male      64.0\n",
      "Name: WritingScore, dtype: float64\n",
      "The average score in writing in relation to: Gender\n",
      "female    78\n",
      "male      63\n",
      "Name: WritingScore, dtype: int64\n",
      "The mean score in Maths in relation to: Gender\n",
      "female    64.119419\n",
      "male      69.038488\n",
      "Name: MathScore, dtype: float64\n",
      "The median score in Maths in relation to: Gender\n",
      "female    64.0\n",
      "male      69.0\n",
      "Name: MathScore, dtype: float64\n",
      "The average score in Maths in relation to: Gender\n",
      "female    64\n",
      "male      64\n",
      "Name: MathScore, dtype: int64\n",
      "The coefficient of variation of the scores in reading is 21.271325834740303\n",
      "The coefficient of variation of the scores in writing is 22.574844991058495\n",
      "The coefficient of variation of the scores in maths is 23.053282736702542\n"
     ]
    }
   ],
   "source": [
    "print(f\"The mean score in reading is {df['ReadingScore'].mean()}\")\n",
    "print(f\"The mean score in writing is {df['WritingScore'].mean()}\")\n",
    "print(f\"The mean score in mathematics is {df['MathScore'].mean()}\")\n",
    "print(f\"The median score in reading is {df['ReadingScore'].median()}\")\n",
    "print(f\"The median score in writing is {df['WritingScore'].median()}\")\n",
    "print(f\"The median score in mathematics is {df['MathScore'].median()}\")\n",
    "print(f\"The average score in reading is {df['ReadingScore'].mode()}\")\n",
    "print(f\"The average score in writing is {df['WritingScore'].mode()}\")\n",
    "print(f\"The average score in mathematics is {df['MathScore'].mode()}\")\n",
    "print(f\"The mean score in reading in relation to: {df.groupby('Gender')['ReadingScore'].mean()}\")\n",
    "print(f\"The median score in reading in relation to: {df.groupby('Gender')['ReadingScore'].median()}\")\n",
    "print(f\"The average score in reading in relation to: {df.groupby('Gender')['ReadingScore'].agg(pd.Series.mode)}\")\n",
    "print(f\"The mean score in writing in relation to: {df.groupby('Gender')['WritingScore'].mean()}\")\n",
    "print(f\"The median score in writing in relation to: {df.groupby('Gender')['WritingScore'].median()}\")\n",
    "print(f\"The average score in writing in relation to: {df.groupby('Gender')['WritingScore'].agg(pd.Series.mode)}\")\n",
    "print(f\"The mean score in Maths in relation to: {df.groupby('Gender')['MathScore'].mean()}\")\n",
    "print(f\"The median score in Maths in relation to: {df.groupby('Gender')['MathScore'].median()}\")\n",
    "print(f\"The average score in Maths in relation to: {df.groupby('Gender')['MathScore'].agg(pd.Series.mode)}\")\n",
    "\n",
    "\n",
    "CV_RS=df['ReadingScore'].std() / df.ReadingScore.mean() * 100 \n",
    "CV_WS=df['WritingScore'].std() / df.WritingScore.mean() * 100 \n",
    "CV_MS=df['MathScore'].std() / df.MathScore.mean() * 100 \n",
    "print(f\"The coefficient of variation of the scores in reading is {CV_RS}\")\n",
    "print(f\"The coefficient of variation of the scores in writing is {CV_WS}\")\n",
    "print(f\"The coefficient of variation of the scores in maths is {CV_MS}\")\n"
   ]
  },
  {
   "cell_type": "markdown",
   "id": "70855546",
   "metadata": {},
   "source": [
    "3. a) Use a statistical test to test the hypothesis:<br>\n",
    "H0: the mean mathematical scores of females and males are equal.\n",
    "\n"
   ]
  },
  {
   "cell_type": "code",
   "execution_count": 14,
   "id": "ebc8b71f",
   "metadata": {},
   "outputs": [
    {
     "data": {
      "text/plain": [
       "TtestResult(statistic=4.02106390072969, pvalue=8.234403415647197e-05, df=198.0)"
      ]
     },
     "execution_count": 14,
     "metadata": {},
     "output_type": "execute_result"
    }
   ],
   "source": [
    "#ANOVA is suitable for comparing means across multiple groups, a t-test is appropriate for comparing means between two groups\n",
    "#t-test:\n",
    "from scipy import stats\n",
    "\n",
    "female = df.query('Gender == \"female\"')\n",
    "male= df.query('Gender == \"male\"')\n",
    "#n - sample size\n",
    "male_sample = male.sample(n=100, random_state=1) #random_state pamti koji sample je izabrani\n",
    "female_sample = female.sample(n=100, random_state=1)\n",
    "\n",
    "stats.ttest_ind(male_sample['MathScore'],female_sample['MathScore'])\n",
    "#pvalue < 0.05 --> we can conclude that there is a statistically significant difference in mean math scores between males and females in your sample."
   ]
  },
  {
   "cell_type": "markdown",
   "id": "06ebfd52",
   "metadata": {},
   "source": [
    "4. a) Use a statistical test to test the hypothesis:<br>\n",
    "   H0 Gender did not affect the writing scores.<br>\n",
    "   H1 Gender affected the writing score.<br>"
   ]
  },
  {
   "cell_type": "code",
   "execution_count": 15,
   "id": "c1c39dd7",
   "metadata": {},
   "outputs": [],
   "source": [
    "from statsmodels.stats.weightstats import ztest as ztest"
   ]
  },
  {
   "cell_type": "code",
   "execution_count": 16,
   "id": "61f94099",
   "metadata": {},
   "outputs": [
    {
     "data": {
      "text/plain": [
       "(-3.499642489320263, 0.0004658825353810114)"
      ]
     },
     "execution_count": 16,
     "metadata": {},
     "output_type": "execute_result"
    }
   ],
   "source": [
    "from scipy import stats\n",
    "\n",
    "ztest(male_sample['WritingScore'],female_sample['WritingScore'], value=0) \n",
    "#two-sample z-test to compare the means of writing scores between males and females. \n",
    "#The null hypothesis (H0) is that gender did not affect the writing scores, and the alternative hypothesis (H1) is that gender affected the writing scores.\n",
    "#p value<0.05 --> gender affected the writing score (we reject H0)"
   ]
  },
  {
   "cell_type": "markdown",
   "id": "c46fde23",
   "metadata": {},
   "source": [
    "5. a) Statisticaly test the distribuitions of female and male scores across the three scores columns.<br>\n",
    "b) Plot the distributions for each of the separate scores in both genders. <br>"
   ]
  },
  {
   "cell_type": "code",
   "execution_count": 18,
   "id": "0c7d9849",
   "metadata": {},
   "outputs": [
    {
     "name": "stdout",
     "output_type": "stream",
     "text": [
      "stat=1556.500, p=0.001\n",
      "WritingScore: Probably different distributions\n",
      "stat=1332.500, p=0.000\n",
      "MathScore: Probably different distributions\n",
      "stat=1814.500, p=0.015\n",
      "ReadingScore: Probably different distributions\n"
     ]
    }
   ],
   "source": [
    "#iz auditornih\n",
    "#comparing two paired groups > wilcoxon\n",
    "from scipy.stats import wilcoxon\n",
    "\n",
    "stat, p = wilcoxon(male_sample['WritingScore'],female_sample['WritingScore'])\n",
    "print('stat=%.3f, p=%.3f' % (stat, p))\n",
    "if p > 0.05:\n",
    "\tprint('WritingScore: Probably the same distribution')\n",
    "else:\n",
    "\tprint('WritingScore: Probably different distributions')\n",
    "    \n",
    "\n",
    "stat, p = wilcoxon(male_sample['MathScore'],female_sample['MathScore'])\n",
    "print('stat=%.3f, p=%.3f' % (stat, p))\n",
    "if p > 0.05:\n",
    "\tprint('MathScore: Probably the same distribution')\n",
    "else:\n",
    "\tprint('MathScore: Probably different distributions')\n",
    "    \n",
    "\n",
    "stat, p = wilcoxon(male_sample['ReadingScore'],female_sample['ReadingScore'])\n",
    "print('stat=%.3f, p=%.3f' % (stat, p))\n",
    "if p > 0.05:\n",
    "\tprint('ReadingScore: Probably the same distribution')\n",
    "else:\n",
    "\tprint('ReadingScore: Probably different distributions')"
   ]
  },
  {
   "cell_type": "code",
   "execution_count": 19,
   "id": "d48ab85b",
   "metadata": {},
   "outputs": [
    {
     "data": {
      "text/plain": [
       "<Axes: >"
      ]
     },
     "execution_count": 19,
     "metadata": {},
     "output_type": "execute_result"
    },
    {
     "data": {
      "image/png": "[encoded data removed]",
      "text/plain": [
       "<Figure size 640x480 with 1 Axes>"
      ]
     },
     "metadata": {},
     "output_type": "display_data"
    }
   ],
   "source": [
    "female_sample['WritingScore'].hist()\n",
    "male_sample['WritingScore'].hist()"
   ]
  },
  {
   "cell_type": "code",
   "execution_count": 20,
   "id": "f3e81fb1",
   "metadata": {
    "scrolled": false
   },
   "outputs": [
    {
     "data": {
      "text/plain": [
       "<Axes: >"
      ]
     },
     "execution_count": 20,
     "metadata": {},
     "output_type": "execute_result"
    },
    {
     "data": {
      "image/png": "[encoded data removed]",
      "text/plain": [
       "<Figure size 640x480 with 1 Axes>"
      ]
     },
     "metadata": {},
     "output_type": "display_data"
    }
   ],
   "source": [
    "female_sample['MathScore'].hist()\n",
    "male_sample['MathScore'].hist()"
   ]
  },
  {
   "cell_type": "code",
   "execution_count": 21,
   "id": "660c4ae0",
   "metadata": {},
   "outputs": [
    {
     "data": {
      "text/plain": [
       "<Axes: >"
      ]
     },
     "execution_count": 21,
     "metadata": {},
     "output_type": "execute_result"
    },
    {
     "data": {
      "image/png": "[encoded data removed]",
      "text/plain": [
       "<Figure size 640x480 with 1 Axes>"
      ]
     },
     "metadata": {},
     "output_type": "display_data"
    }
   ],
   "source": [
    "female_sample['ReadingScore'].hist()\n",
    "male_sample['ReadingScore'].hist()"
   ]
  },
  {
   "cell_type": "code",
   "execution_count": null,
   "id": "912c95fb",
   "metadata": {},
   "outputs": [],
   "source": []
  }
 ],
 "metadata": {
  "kernelspec": {
   "display_name": "Python 3 (ipykernel)",
   "language": "python",
   "name": "python3"
  },
  "language_info": {
   "codemirror_mode": {
    "name": "ipython",
    "version": 3
   },
   "file_extension": ".py",
   "mimetype": "text/x-python",
   "name": "python",
   "nbconvert_exporter": "python",
   "pygments_lexer": "ipython3",
   "version": "3.11.5"
  }
 },
 "nbformat": 4,
 "nbformat_minor": 5
}
